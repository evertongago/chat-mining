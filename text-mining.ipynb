{
 "cells": [
  {
   "cell_type": "markdown",
   "metadata": {},
   "source": [
    "# Text Mining"
   ]
  },
  {
   "cell_type": "markdown",
   "metadata": {},
   "source": [
    "<div style=\"text-align\">\n",
    "Este <code>jupyter notebook</code> exercita algumas tarefas de mineração de texto através da biblioteca <code>NLTK</code> e avalia uma abordagem simples e determinística que permite analisar um diálogo entre operador de uma central de Chat e o cliente.\n",
    "</div>"
   ]
  },
  {
   "cell_type": "markdown",
   "metadata": {},
   "source": [
    "### Carregando Pacotes"
   ]
  },
  {
   "cell_type": "code",
   "execution_count": 1,
   "metadata": {},
   "outputs": [],
   "source": [
    "import nltk\n",
    "\n",
    "from nltk.text import Text\n",
    "from nltk.corpus import floresta\n",
    "from nltk import word_tokenize, data"
   ]
  },
  {
   "cell_type": "markdown",
   "metadata": {},
   "source": [
    "### Obtendo Pacotes Específicos"
   ]
  },
  {
   "cell_type": "code",
   "execution_count": 2,
   "metadata": {},
   "outputs": [
    {
     "name": "stderr",
     "output_type": "stream",
     "text": [
      "[nltk_data] Downloading package punkt to /root/nltk_data...\n",
      "[nltk_data]   Package punkt is already up-to-date!\n",
      "[nltk_data] Downloading package stopwords to /root/nltk_data...\n",
      "[nltk_data]   Package stopwords is already up-to-date!\n",
      "[nltk_data] Downloading package mac_morpho to /root/nltk_data...\n",
      "[nltk_data]   Package mac_morpho is already up-to-date!\n",
      "[nltk_data] Downloading package floresta to /root/nltk_data...\n",
      "[nltk_data]   Package floresta is already up-to-date!\n"
     ]
    },
    {
     "data": {
      "text/plain": [
       "True"
      ]
     },
     "execution_count": 2,
     "metadata": {},
     "output_type": "execute_result"
    }
   ],
   "source": [
    "nltk.download(['punkt', 'stopwords', 'mac_morpho', 'floresta'])"
   ]
  },
  {
   "cell_type": "markdown",
   "metadata": {},
   "source": [
    "### Diálogo"
   ]
  },
  {
   "cell_type": "markdown",
   "metadata": {},
   "source": [
    "<div style=\"text-align:justify\">\n",
    "A seguir vamos ilustrar um diálogo entre um operador de chat e um cliente. Neste diálogo não temos a identificação das mensagens enviadas pelo operador e das mensagens enviadas pelo cliente, de modo que é preciso ler toda a conversa para chegar a conclusão de quem está falando o que.\n",
    "</div>"
   ]
  },
  {
   "cell_type": "code",
   "execution_count": 3,
   "metadata": {},
   "outputs": [],
   "source": [
    "dialog = [\n",
    "    'Bom dia. Meu nome é Everton Gago e estou aqui te auxiliar no que precisar. Em que posso ajudar?',\n",
    "    'Bom dia',\n",
    "    'Eu não consigo acessar o site para consultar meu extrato',\n",
    "    'Nosso site está indisponível no momento. Pedimos desculpas pelo inconveniente',\n",
    "    'Isso é um absurdo',\n",
    "    'O serviço de vocês é uma porcaria, nunca funciona',\n",
    "    'Eu vou cancelar esse serviço',\n",
    "    'Existe algo mais em que possamos ajudar?',\n",
    "    'Não, obrigado!'\n",
    "]"
   ]
  },
  {
   "cell_type": "markdown",
   "metadata": {},
   "source": [
    "### Remover Protocolos"
   ]
  },
  {
   "cell_type": "markdown",
   "metadata": {},
   "source": [
    "<div style=\"text-align:justify\">\n",
    "Para potencializar o resultado da análise é importante remover os protocolos de atendimento existentes no diálogo. Estes protocolos podem ser facilmente encontrados pois estão presentes em praticamente todos os atendimentos.\n",
    "</div>"
   ]
  },
  {
   "cell_type": "code",
   "execution_count": 4,
   "metadata": {},
   "outputs": [
    {
     "data": {
      "text/plain": [
       "['Bom dia',\n",
       " 'Eu não consigo acessar o site para consultar meu extrato',\n",
       " 'Nosso site está indisponível no momento. Pedimos desculpas pelo inconveniente',\n",
       " 'Isso é um absurdo',\n",
       " 'O serviço de vocês é uma porcaria, nunca funciona',\n",
       " 'Eu vou cancelar esse serviço',\n",
       " 'Não, obrigado!']"
      ]
     },
     "execution_count": 4,
     "metadata": {},
     "output_type": "execute_result"
    }
   ],
   "source": [
    "dialog = [msg for msg in dialog if ('Bom dia. Meu nome' not in msg) and ('em que possamos ajudar' not in msg)]\n",
    "dialog"
   ]
  },
  {
   "cell_type": "markdown",
   "metadata": {},
   "source": [
    "### Extrair Tokens"
   ]
  },
  {
   "cell_type": "code",
   "execution_count": 5,
   "metadata": {},
   "outputs": [],
   "source": [
    "str_dialog = ' '.join(dialog)\n",
    "tokens = word_tokenize(str_dialog)\n",
    "text = Text(tokens)"
   ]
  },
  {
   "cell_type": "markdown",
   "metadata": {},
   "source": [
    "### Extrair Sentenças"
   ]
  },
  {
   "cell_type": "code",
   "execution_count": 6,
   "metadata": {},
   "outputs": [
    {
     "data": {
      "text/plain": [
       "['Bom dia Eu não consigo acessar o site para consultar meu extrato Nosso site está indisponível no momento.',\n",
       " 'Pedimos desculpas pelo inconveniente Isso é um absurdo O serviço de vocês é uma porcaria, nunca funciona Eu vou cancelar esse serviço Não, obrigado!']"
      ]
     },
     "execution_count": 6,
     "metadata": {},
     "output_type": "execute_result"
    }
   ],
   "source": [
    "sent_tokenizer = data.load(\"tokenizers/punkt/portuguese.pickle\")\n",
    "sentences = sent_tokenizer.tokenize(str_dialog)\n",
    "sentences[:3]"
   ]
  },
  {
   "cell_type": "markdown",
   "metadata": {},
   "source": [
    "### Extrair Contexto da Frase"
   ]
  },
  {
   "cell_type": "markdown",
   "metadata": {},
   "source": [
    "<div style=\"text-align:justify\">\n",
    "A função a seguir extraí o contexto ao entorno da palavra fornecida como parâmetro. A extração do contexto é importante para para obter mais informações sobre a situação que a palavra de interesse foi mencionada.\n",
    "</div>"
   ]
  },
  {
   "cell_type": "code",
   "execution_count": 7,
   "metadata": {},
   "outputs": [
    {
     "data": {
      "text/plain": [
       "'Bom dia Eu não consigo acessar o site para consultar meu extrato Nosso s'"
      ]
     },
     "execution_count": 7,
     "metadata": {},
     "output_type": "execute_result"
    }
   ],
   "source": [
    "def concordance(word, context=35):\n",
    "    value = ''\n",
    "    for sent in sentences:\n",
    "        if word in sent:\n",
    "            pos = sent.index(word)\n",
    "            left = ''.join(sent[:pos])\n",
    "            right = ''.join(sent[pos + len(word):])\n",
    "            value += f'{left[-context:]} {word} {right[:context]}'\n",
    "\n",
    "    return value.replace('  ', ' ').strip()\n",
    "\n",
    "concordance('site')"
   ]
  },
  {
   "cell_type": "markdown",
   "metadata": {},
   "source": [
    "### Lista de Stop Words do NLTK"
   ]
  },
  {
   "cell_type": "code",
   "execution_count": 8,
   "metadata": {},
   "outputs": [
    {
     "data": {
      "text/plain": [
       "['de', 'a', 'o', 'que', 'e', 'do', 'da', 'em', 'um', 'para']"
      ]
     },
     "execution_count": 8,
     "metadata": {},
     "output_type": "execute_result"
    }
   ],
   "source": [
    "stopwords = nltk.corpus.stopwords.words('portuguese')\n",
    "stopwords[:10]"
   ]
  },
  {
   "cell_type": "markdown",
   "metadata": {},
   "source": [
    "### Remover Stop Words do Diálogo"
   ]
  },
  {
   "cell_type": "code",
   "execution_count": 9,
   "metadata": {},
   "outputs": [
    {
     "data": {
      "text/plain": [
       "['bom',\n",
       " 'dia',\n",
       " 'consigo',\n",
       " 'acessar',\n",
       " 'site',\n",
       " 'consultar',\n",
       " 'extrato',\n",
       " 'site',\n",
       " 'indisponível',\n",
       " 'momento']"
      ]
     },
     "execution_count": 9,
     "metadata": {},
     "output_type": "execute_result"
    }
   ],
   "source": [
    "words = [w.lower() for w in text if w.lower() not in stopwords]\n",
    "words[:10]"
   ]
  },
  {
   "cell_type": "markdown",
   "metadata": {},
   "source": [
    "### Criar Dicionário de Classificação"
   ]
  },
  {
   "cell_type": "code",
   "execution_count": 10,
   "metadata": {},
   "outputs": [
    {
     "data": {
      "text/plain": [
       "[('um', 'art'),\n",
       " ('revivalismo', 'n'),\n",
       " ('refrescante', 'adj'),\n",
       " ('o', 'art'),\n",
       " ('7_e_meio', 'prop'),\n",
       " ('é', 'v-fin'),\n",
       " ('um', 'art'),\n",
       " ('ex-libris', 'n'),\n",
       " ('de', 'prp'),\n",
       " ('a', 'art')]"
      ]
     },
     "execution_count": 10,
     "metadata": {},
     "output_type": "execute_result"
    }
   ],
   "source": [
    "def simplify_tag(t):\n",
    "    if '+' in t:\n",
    "        return t[t.index('+') + 1:]\n",
    "    else:\n",
    "        return t\n",
    "\n",
    "twords = floresta.tagged_words()\n",
    "twords = [(w.lower(), simplify_tag(t)) for (w, t) in twords]\n",
    "twords[:10]"
   ]
  },
  {
   "cell_type": "markdown",
   "metadata": {},
   "source": [
    "### Classificar Termos do Diálogo"
   ]
  },
  {
   "cell_type": "code",
   "execution_count": 11,
   "metadata": {},
   "outputs": [],
   "source": [
    "interest = {}\n",
    "\n",
    "for w in words:\n",
    "    if w not in interest:\n",
    "        types = [t[1] for t in twords if t[0] == w]\n",
    "        value = types[0] if len(types) > 0 else None\n",
    "        interest[w] = value"
   ]
  },
  {
   "cell_type": "code",
   "execution_count": 12,
   "metadata": {},
   "outputs": [
    {
     "data": {
      "text/plain": [
       "dict_items([('bom', 'adj'), ('dia', 'n'), ('consigo', 'v-fin'), ('acessar', 'v-inf'), ('site', 'n'), ('consultar', None), ('extrato', None), ('indisponível', None), ('momento', 'n'), ('.', '.'), ('pedimos', 'v-fin'), ('desculpas', 'n'), ('inconveniente', 'n'), ('é', 'v-fin'), ('absurdo', 'adj'), ('serviço', 'n'), ('porcaria', None), (',', ','), ('nunca', 'adv'), ('funciona', 'v-fin'), ('vou', 'v-fin'), ('cancelar', 'v-inf'), ('obrigado', 'v-pcp'), ('!', '!')])"
      ]
     },
     "execution_count": 12,
     "metadata": {},
     "output_type": "execute_result"
    }
   ],
   "source": [
    "interest.items()"
   ]
  },
  {
   "cell_type": "markdown",
   "metadata": {},
   "source": [
    "### Filtrar Classificação de Interesse"
   ]
  },
  {
   "cell_type": "code",
   "execution_count": 13,
   "metadata": {},
   "outputs": [],
   "source": [
    "def twords_filter(tw):\n",
    "    return filter(lambda x : x[1] == tw, interest.items())"
   ]
  },
  {
   "cell_type": "markdown",
   "metadata": {},
   "source": [
    "### Exemplo"
   ]
  },
  {
   "cell_type": "code",
   "execution_count": 14,
   "metadata": {},
   "outputs": [
    {
     "data": {
      "text/plain": [
       "'Bom dia Eu não consigo acessar o site para consultar meu extrato ma porcaria, nunca funciona Eu vou cancelar esse serviço Não, obrigado!'"
      ]
     },
     "execution_count": 14,
     "metadata": {},
     "output_type": "execute_result"
    }
   ],
   "source": [
    "dialog = list(map(lambda k : concordance(k[0]), twords_filter('v-inf')))\n",
    "' '.join(dialog)"
   ]
  },
  {
   "cell_type": "markdown",
   "metadata": {},
   "source": []
  }
 ],
 "metadata": {
  "kernelspec": {
   "display_name": "Python 3",
   "language": "python",
   "name": "python3"
  },
  "language_info": {
   "codemirror_mode": {
    "name": "ipython",
    "version": 3
   },
   "file_extension": ".py",
   "mimetype": "text/x-python",
   "name": "python",
   "nbconvert_exporter": "python",
   "pygments_lexer": "ipython3",
   "version": "3.7.1"
  }
 },
 "nbformat": 4,
 "nbformat_minor": 2
}
